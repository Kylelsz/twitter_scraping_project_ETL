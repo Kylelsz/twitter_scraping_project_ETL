{
 "cells": [
  {
   "cell_type": "markdown",
   "id": "b74a12f5",
   "metadata": {},
   "source": [
    "# Team Members (Blue Clues)\n",
    "\n",
    "- ### Ben Yang\n",
    "- ### Carol Wong\n",
    "- ### Kyle Lua\n",
    "- ### Michael Ho"
   ]
  },
  {
   "cell_type": "markdown",
   "id": "6ca712f4",
   "metadata": {},
   "source": [
    "# Project Summary"
   ]
  },
  {
   "cell_type": "markdown",
   "id": "d02ff971",
   "metadata": {},
   "source": [
    "# Twitter API Application\n",
    "\n",
    "In order to use Twitter API, a Twitter developer account is required.  Apply for the **Essential** level first, then upgrade to **Elevated** level. \n",
    "\n",
    "The steps are as follows:\n",
    "\n",
    "Go to <https://developer.twitter.com> and sign in to your Twitter account. Navigate to **Products → Twitter API**.\n",
    "\n",
    "\n",
    "<div>\n",
    "<img src=\"images/twitter-api-sign-up.png\" width=\"600\"  border=1px style=\"display: inline-block; text-align: left;\"/>\n",
    "</div>\n"
   ]
  },
  {
   "cell_type": "markdown",
   "id": "349a393e",
   "metadata": {},
   "source": [
    "Then, scroll down to the bottom of the page and click **Get Started**. <br><br>\n",
    "\n",
    "<div>\n",
    "<img src=\"images/twitter-api-get-started.png\" width=\"700\" border=1px style=\"display: inline-block; text-align: left;\"/>\n",
    "</div>"
   ]
  },
  {
   "cell_type": "code",
   "execution_count": null,
   "id": "2d2c5b97",
   "metadata": {},
   "outputs": [],
   "source": []
  }
 ],
 "metadata": {
  "kernelspec": {
   "display_name": "Python 3 (ipykernel)",
   "language": "python",
   "name": "python3"
  },
  "language_info": {
   "codemirror_mode": {
    "name": "ipython",
    "version": 3
   },
   "file_extension": ".py",
   "mimetype": "text/x-python",
   "name": "python",
   "nbconvert_exporter": "python",
   "pygments_lexer": "ipython3",
   "version": "3.10.8"
  }
 },
 "nbformat": 4,
 "nbformat_minor": 5
}
